{
 "cells": [
  {
   "cell_type": "code",
   "execution_count": 2,
   "metadata": {},
   "outputs": [],
   "source": [
    "import requests\n",
    "from bs4 import BeautifulSoup\n",
    "import pandas as pd\n",
    "import re"
   ]
  },
  {
   "cell_type": "code",
   "execution_count": 3,
   "metadata": {},
   "outputs": [],
   "source": [
    "url = 'https://egypt.souq.com/eg-ar/redmi/%D9%85%D9%88%D8%A8%D8%A7%D9%8A%D9%84%D8%A7%D8%AA--bslash--%D8%AC%D9%88%D8%A7%D9%84%D8%A7%D8%AA-33/%D8%B4%D8%A7%D9%88%D9%85%D9%8A/a-t-100007/s/?section=2&page=1'"
   ]
  },
  {
   "cell_type": "code",
   "execution_count": 4,
   "metadata": {},
   "outputs": [],
   "source": [
    "response = requests.get(url)"
   ]
  },
  {
   "cell_type": "code",
   "execution_count": 5,
   "metadata": {},
   "outputs": [],
   "source": [
    "html = response.text"
   ]
  },
  {
   "cell_type": "code",
   "execution_count": 6,
   "metadata": {},
   "outputs": [],
   "source": [
    "soup = BeautifulSoup(html,'html.parser')"
   ]
  },
  {
   "cell_type": "code",
   "execution_count": 7,
   "metadata": {},
   "outputs": [
    {
     "data": {
      "text/plain": [
       "'redmi بافضل سعر في مصر ، اكتشف الجديد من شاومي,اتش تي سي,ابل | سوق.كوم'"
      ]
     },
     "execution_count": 7,
     "metadata": {},
     "output_type": "execute_result"
    }
   ],
   "source": [
    "soup.title.text.strip()"
   ]
  },
  {
   "cell_type": "code",
   "execution_count": 8,
   "metadata": {},
   "outputs": [],
   "source": [
    "mobile_html_list = soup.find_all('div',class_='column column-block block-list-large single-item')"
   ]
  },
  {
   "cell_type": "code",
   "execution_count": 9,
   "metadata": {},
   "outputs": [],
   "source": [
    "mobile_dict_list = []\n",
    "for m in mobile_html_list:\n",
    "    m_name = m.find('h1', {'class' : 'itemTitle'}).text.strip()\n",
    "    m_camera = m.find('div',class_='col col-info item-content').find('ul',class_='selling-points').text.strip().split('\\n')[0].split(': ')[1]\n",
    "    m_ram = m.find('div',class_='col col-info item-content').find('ul',class_='selling-points').text.strip().split('\\n')[1].split(': ')[1]\n",
    "    m_price = m.find('h3',class_='itemPrice').text    \n",
    "    m_image = m.find('a',class_='img-bucket img-link itemLink sPrimaryLink',href=True)['href']\n",
    "    mobile_dict_list.append(\n",
    "        {\n",
    "            'name':u''+m_name,\n",
    "            'camera':u''+m_camera,\n",
    "            'ram':u''+m_ram,\n",
    "            'price':u''+m_price,\n",
    "            'image':u''+m_image\n",
    "        }\n",
    "    )\n",
    "    #print(m_image)\n",
    "    #break"
   ]
  },
  {
   "cell_type": "code",
   "execution_count": 10,
   "metadata": {},
   "outputs": [],
   "source": [
    "df = pd.DataFrame(mobile_dict_list)\n",
    "df.to_csv('souq_redmi.csv',index=False,encoding='UTF-8')\n",
    "df.to_excel('souq_redmi.xlsx',index=False,encoding='UTF-8')"
   ]
  },
  {
   "cell_type": "code",
   "execution_count": 11,
   "metadata": {},
   "outputs": [
    {
     "data": {
      "text/html": [
       "<div>\n",
       "<style scoped>\n",
       "    .dataframe tbody tr th:only-of-type {\n",
       "        vertical-align: middle;\n",
       "    }\n",
       "\n",
       "    .dataframe tbody tr th {\n",
       "        vertical-align: top;\n",
       "    }\n",
       "\n",
       "    .dataframe thead th {\n",
       "        text-align: right;\n",
       "    }\n",
       "</style>\n",
       "<table border=\"1\" class=\"dataframe\">\n",
       "  <thead>\n",
       "    <tr style=\"text-align: right;\">\n",
       "      <th></th>\n",
       "      <th>name</th>\n",
       "      <th>camera</th>\n",
       "      <th>ram</th>\n",
       "      <th>price</th>\n",
       "      <th>image</th>\n",
       "    </tr>\n",
       "  </thead>\n",
       "  <tbody>\n",
       "    <tr>\n",
       "      <th>0</th>\n",
       "      <td>موبايل شاومي ريدمي نوت 9 برو بشريحتين اتصال - ...</td>\n",
       "      <td>64 ميجابكسل</td>\n",
       "      <td>6 جيجابايت</td>\n",
       "      <td>3,860.00 جنيه</td>\n",
       "      <td>https://egypt.souq.com/eg-ar/موبايل-شاومي-ريدم...</td>\n",
       "    </tr>\n",
       "    <tr>\n",
       "      <th>1</th>\n",
       "      <td>موبايل شاومي ريدمي نوت 9 برو بشريحتين اتصال - ...</td>\n",
       "      <td>64 ميجابكسل</td>\n",
       "      <td>6 جيجابايت</td>\n",
       "      <td>3,749.00 جنيه</td>\n",
       "      <td>https://egypt.souq.com/eg-ar/موبايل-شاومي-ريدم...</td>\n",
       "    </tr>\n",
       "    <tr>\n",
       "      <th>2</th>\n",
       "      <td>موبايل شاومي ريدمي 9 بشريحتين اتصال - 6.53 بوص...</td>\n",
       "      <td>13 ميجابكسل</td>\n",
       "      <td>4 جيجابايت</td>\n",
       "      <td>2,888.00 جنيه</td>\n",
       "      <td>https://egypt.souq.com/eg-ar/موبايل-شاومي-ريدم...</td>\n",
       "    </tr>\n",
       "    <tr>\n",
       "      <th>3</th>\n",
       "      <td>موبايل شاومي ريدمي نوت 9S بشريحتين اتصال - 6.6...</td>\n",
       "      <td>48 ميجا بيكسل + 8 ميجا بيكسل + 5 ميجا بيكسل + ...</td>\n",
       "      <td>4 جيجابايت</td>\n",
       "      <td>3,390.00 جنيه</td>\n",
       "      <td>https://egypt.souq.com/eg-ar/موبايل-شاومي-ريدم...</td>\n",
       "    </tr>\n",
       "    <tr>\n",
       "      <th>4</th>\n",
       "      <td>موبايل شاومي ريدمي نوت 9S بشريحتين اتصال - 6.6...</td>\n",
       "      <td>48 ميجا بيكسل + 8 ميجا بيكسل + 5 ميجا بيكسل + ...</td>\n",
       "      <td>4 جيجابايت</td>\n",
       "      <td>3,459.00 جنيه</td>\n",
       "      <td>https://egypt.souq.com/eg-ar/موبايل-شاومي-ريدم...</td>\n",
       "    </tr>\n",
       "    <tr>\n",
       "      <th>5</th>\n",
       "      <td>موبايل شاومي ريدمي 9 بشريحتين اتصال - 6.53 بوص...</td>\n",
       "      <td>13 ميجابكسل</td>\n",
       "      <td>4 جيجابايت</td>\n",
       "      <td>2,888.00 جنيه</td>\n",
       "      <td>https://egypt.souq.com/eg-ar/موبايل-شاومي-ريدم...</td>\n",
       "    </tr>\n",
       "    <tr>\n",
       "      <th>6</th>\n",
       "      <td>موبايل شاومي ريدمي 9 بشريحتين اتصال - 6.53 بوص...</td>\n",
       "      <td>13 ميجابكسل</td>\n",
       "      <td>4 جيجابايت</td>\n",
       "      <td>2,888.00 جنيه</td>\n",
       "      <td>https://egypt.souq.com/eg-ar/موبايل-شاومي-ريدم...</td>\n",
       "    </tr>\n",
       "  </tbody>\n",
       "</table>\n",
       "</div>"
      ],
      "text/plain": [
       "                                                name  \\\n",
       "0  موبايل شاومي ريدمي نوت 9 برو بشريحتين اتصال - ...   \n",
       "1  موبايل شاومي ريدمي نوت 9 برو بشريحتين اتصال - ...   \n",
       "2  موبايل شاومي ريدمي 9 بشريحتين اتصال - 6.53 بوص...   \n",
       "3  موبايل شاومي ريدمي نوت 9S بشريحتين اتصال - 6.6...   \n",
       "4  موبايل شاومي ريدمي نوت 9S بشريحتين اتصال - 6.6...   \n",
       "5  موبايل شاومي ريدمي 9 بشريحتين اتصال - 6.53 بوص...   \n",
       "6  موبايل شاومي ريدمي 9 بشريحتين اتصال - 6.53 بوص...   \n",
       "\n",
       "                                              camera         ram  \\\n",
       "0                                        64 ميجابكسل  6 جيجابايت   \n",
       "1                                        64 ميجابكسل  6 جيجابايت   \n",
       "2                                        13 ميجابكسل  4 جيجابايت   \n",
       "3  48 ميجا بيكسل + 8 ميجا بيكسل + 5 ميجا بيكسل + ...  4 جيجابايت   \n",
       "4  48 ميجا بيكسل + 8 ميجا بيكسل + 5 ميجا بيكسل + ...  4 جيجابايت   \n",
       "5                                        13 ميجابكسل  4 جيجابايت   \n",
       "6                                        13 ميجابكسل  4 جيجابايت   \n",
       "\n",
       "           price                                              image  \n",
       "0  3,860.00 جنيه  https://egypt.souq.com/eg-ar/موبايل-شاومي-ريدم...  \n",
       "1  3,749.00 جنيه  https://egypt.souq.com/eg-ar/موبايل-شاومي-ريدم...  \n",
       "2  2,888.00 جنيه  https://egypt.souq.com/eg-ar/موبايل-شاومي-ريدم...  \n",
       "3  3,390.00 جنيه  https://egypt.souq.com/eg-ar/موبايل-شاومي-ريدم...  \n",
       "4  3,459.00 جنيه  https://egypt.souq.com/eg-ar/موبايل-شاومي-ريدم...  \n",
       "5  2,888.00 جنيه  https://egypt.souq.com/eg-ar/موبايل-شاومي-ريدم...  \n",
       "6  2,888.00 جنيه  https://egypt.souq.com/eg-ar/موبايل-شاومي-ريدم...  "
      ]
     },
     "execution_count": 11,
     "metadata": {},
     "output_type": "execute_result"
    }
   ],
   "source": [
    "df.head(7)"
   ]
  },
  {
   "cell_type": "code",
   "execution_count": null,
   "metadata": {},
   "outputs": [],
   "source": []
  }
 ],
 "metadata": {
  "kernelspec": {
   "display_name": "Python 3.7.6 64-bit ('base': conda)",
   "language": "python",
   "name": "python37664bitbaseconda6580541437ae4ee4bd799c9d9e1a3052"
  },
  "language_info": {
   "codemirror_mode": {
    "name": "ipython",
    "version": 3
   },
   "file_extension": ".py",
   "mimetype": "text/x-python",
   "name": "python",
   "nbconvert_exporter": "python",
   "pygments_lexer": "ipython3",
   "version": "3.7.9"
  }
 },
 "nbformat": 4,
 "nbformat_minor": 4
}
